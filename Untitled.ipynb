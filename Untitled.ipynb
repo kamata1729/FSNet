{
 "cells": [
  {
   "cell_type": "code",
   "execution_count": 2,
   "metadata": {},
   "outputs": [],
   "source": [
    "import torch\n",
    "import torch.nn as nn\n",
    "import torchvision\n",
    "import numpy as np\n",
    "import cv2\n",
    "import matplotlib.pyplot as plt\n",
    "%matplotlib inline"
   ]
  },
  {
   "cell_type": "code",
   "execution_count": 153,
   "metadata": {},
   "outputs": [],
   "source": [
    "class FSNet(torch.autograd.Function):\n",
    "    def __init__(self, S1, S2, C, x, y, z, K1, K2, K3):\n",
    "        \"\"\"\n",
    "        \n",
    "        \"\"\"\n",
    "        self.C = C\n",
    "        self.S1 = S1\n",
    "        self.S2 = S2\n",
    "        self.x = x\n",
    "        self.y = y\n",
    "        self.z = z\n",
    "        self.K1 = K1\n",
    "        self.K2 = K2\n",
    "        self.K3 = K3\n",
    "        self.K = K1*K2*K3\n",
    "        \n",
    "        self.FS = nn.init.kaiming_normal_(torch.zeros((C, K1*x, K2*y)))\n",
    "        \n",
    "        self.grad_index = torch.zeros((self.FS.size()[0]*2, self.FS.size()[1]*2, self.FS.size()[2]*2))\n",
    "        \n",
    "        self.conv_real = nn.Conv2d(in_channels=C, out_channels=self.K, kernel_size=(S1, S2))\n",
    "        \n",
    "    def forward(self, input):\n",
    "        \"\"\"\n",
    "        input: (N, C, H, W)\n",
    "        \"\"\"\n",
    "        conv_weight = torch.zeros((self.K1*self.K2*self.K3, self.C, self.S1, self.S2))\n",
    "        combinations = [(i, j, k) for i in range(self.K1) \n",
    "                        for j in range(self.K2) \n",
    "                        for k in range(self.K3)]\n",
    "        FS_extend = torch.cat([self.FS, self.FS], dim=0)\n",
    "        FS_extend = torch.cat([FS_extend, FS_extend], dim=1)\n",
    "        FS_extend = torch.cat([FS_extend, FS_extend], dim=2)\n",
    "        self.FS_extend = FS_extend\n",
    "        \n",
    "        for (k1, k2, k3) in combinations:\n",
    "            conv_weight[k1 + k2 * self.K1 + k3 * self.K1 * self.K2] = FS_extend[k3*self.z:k3*self.z+self.C, \n",
    "                                                            k1*self.x:k1*self.x+self.S1,\n",
    "                                                           k2*self.y:k2*self.y+self.S2]\n",
    "            self.grad_index[k3*self.z:k3*self.z+self.C,\n",
    "                            k1*self.x:k1*self.x+self.S1,\n",
    "                            k2*self.y:k2*self.y+self.S2] += 1\n",
    "        c, h, w = self.grad_index.size()\n",
    "        self.grad_index[:c//2, :, :] += self.grad_index[c//2:, :, :]\n",
    "        self.grad_index[:, :h//2, :] += self.grad_index[:, h//2:, :]\n",
    "        self.grad_index[:, :, :w//2] += self.grad_index[:, :, w//2:]\n",
    "        self.grad_index = self.grad_index[:c//2, :h//2, :w//2]\n",
    "        print(conv_weight.size())\n",
    "        \n",
    "        self.conv_real.weight.data = conv_weight"
   ]
  },
  {
   "cell_type": "code",
   "execution_count": 154,
   "metadata": {},
   "outputs": [],
   "source": [
    "sample = FSNet(S1=3, S2=3, C=64, x=2, y=2, z=16, K1=4, K2=4, K3=4)"
   ]
  },
  {
   "cell_type": "code",
   "execution_count": 155,
   "metadata": {},
   "outputs": [
    {
     "name": "stdout",
     "output_type": "stream",
     "text": [
      "torch.Size([64, 64, 3, 3])\n"
     ]
    }
   ],
   "source": [
    "sample.forward(None)"
   ]
  },
  {
   "cell_type": "code",
   "execution_count": 159,
   "metadata": {},
   "outputs": [
    {
     "data": {
      "text/plain": [
       "tensor(0)"
      ]
     },
     "execution_count": 159,
     "metadata": {},
     "output_type": "execute_result"
    }
   ],
   "source": [
    "torch.sum(sample.conv_real.weight.data[:, :,:,:] == 0)"
   ]
  },
  {
   "cell_type": "code",
   "execution_count": 151,
   "metadata": {},
   "outputs": [
    {
     "data": {
      "text/plain": [
       "tensor(0)"
      ]
     },
     "execution_count": 151,
     "metadata": {},
     "output_type": "execute_result"
    }
   ],
   "source": [
    "torch.sum(sample.FS_extend == 0)"
   ]
  },
  {
   "cell_type": "code",
   "execution_count": null,
   "metadata": {},
   "outputs": [],
   "source": []
  }
 ],
 "metadata": {
  "kernelspec": {
   "display_name": "Python 3",
   "language": "python",
   "name": "python3"
  },
  "language_info": {
   "codemirror_mode": {
    "name": "ipython",
    "version": 3
   },
   "file_extension": ".py",
   "mimetype": "text/x-python",
   "name": "python",
   "nbconvert_exporter": "python",
   "pygments_lexer": "ipython3",
   "version": "3.7.3"
  }
 },
 "nbformat": 4,
 "nbformat_minor": 2
}
